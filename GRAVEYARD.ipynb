{
 "cells": [
  {
   "cell_type": "markdown",
   "metadata": {},
   "source": [
    "# GRAVEYARD\n",
    "\n",
    "for the next part, I want to begin including the weather figures to go along with each week.  For this I'm using World Weather Online's Historical Weather API which can be found [here](https://www.worldweatheronline.com/developer/api/docs/historical-weather-api.aspx)\n",
    "\n",
    "The returned data has a lot of interesting information, for the sake of time and clarity, I will look at average temperature, temperature variance, uvindex, humidity, precipitation\n",
    "\n",
    "WEATHERBIT"
   ]
  },
  {
   "cell_type": "code",
   "execution_count": 1,
   "metadata": {},
   "outputs": [],
   "source": [
    "def grab_weather(weekdf):\n",
    "    api_key = '01feb38f5b474c60924192053201703'\n",
    "    url = 'https://api.worldweatheronline.com/premium/v1/past-weather.ashx'\n",
    "    query = {\n",
    "        'q': str(weekdf['Lat']) + ',' + str(weekdf['Long']),\n",
    "        'date': weekdf.iat[0,5],\n",
    "        'enddate': weekdf.iat[0,6],\n",
    "        'tp': 24,\n",
    "        'format': 'json',\n",
    "        'key': api_key\n",
    "    }\n",
    "    time.sleep(5)\n",
    "    response = rq.get(url, query)\n",
    "    display(response)\n",
    "    if response.ok:\n",
    "        rawjson = response.json()\n",
    "        display(rawjson)\n",
    "        weatherdata = pd.io.json.json_normalize(rawjson['data']['weather']).reset_index(drop=True)\n",
    "        weatherdata = weatherdata.drop(columns=['maxtempC', 'mintempC', 'avgtempC', 'astronomy'])\n",
    "    \n",
    "    return weatherdata\n",
    "\n",
    "def IROC_data(weekndf):\n",
    "    for locations in weekndf['locationID']:\n",
    "        w1d_idx = weekndf[weekndf['locationID'] == locations]\n",
    "        lindata = tallnewdf[\n",
    "            (tallnewdf['locationID'] == locations) & \n",
    "            (tallnewdf['count_type'] == 'cases') & \n",
    "            (tallnewdf['Date'] <= pd.Timestamp(w1d_idx.iat[0,6])) & \n",
    "            (tallnewdf['Date'] >= pd.Timestamp(w1d_idx.iat[0,5]))].reset_index(drop=True)\n",
    "        slope, _, _, _, _ = st.linregress(lindata.index, lindata['count'])\n",
    "        weatherdf = grab_weather(weekndf.loc[weekndf['locationID'] == locations])\n",
    "#         display(weatherdf)\n",
    "#         break\n",
    "        weekdnf.at[w1d_idx.index, 'meantemp'] = weatherdf['avgtempF'].astype(int).mean()\n",
    "        weekdnf.at[w1d_idx.index, 'maxtemp'] = weatherdf['maxtempF'].astype(int).max()\n",
    "        weekdnf.at[w1d_idx.index, 'mintemp'] = weatherdf['mintempF'].astype(int).min()\n",
    "        weekdnf.at[w1d_idx.index, 'difftemp'] = weatherdf['maxtempF'].astype(int).max() - weatherdf['mintempF'].astype(int).min()\n",
    "        weekndf.at[w1d_idx.index, 'weekIROC'] = slope\n",
    "    return weekndf"
   ]
  },
  {
   "cell_type": "code",
   "execution_count": 2,
   "metadata": {},
   "outputs": [
    {
     "ename": "NameError",
     "evalue": "name 'week1IROC' is not defined",
     "output_type": "error",
     "traceback": [
      "\u001b[1;31m---------------------------------------------------------------------------\u001b[0m",
      "\u001b[1;31mNameError\u001b[0m                                 Traceback (most recent call last)",
      "\u001b[1;32m<ipython-input-2-a2e1bd8bfb9a>\u001b[0m in \u001b[0;36m<module>\u001b[1;34m\u001b[0m\n\u001b[0;32m      2\u001b[0m \u001b[0mhiilim\u001b[0m \u001b[1;33m=\u001b[0m \u001b[1;36m50\u001b[0m\u001b[1;33m\u001b[0m\u001b[1;33m\u001b[0m\u001b[0m\n\u001b[0;32m      3\u001b[0m \u001b[1;33m\u001b[0m\u001b[0m\n\u001b[1;32m----> 4\u001b[1;33m IROC1plotdat = week1IROC[\n\u001b[0m\u001b[0;32m      5\u001b[0m     \u001b[1;33m(\u001b[0m\u001b[0mweek1IROC\u001b[0m\u001b[1;33m[\u001b[0m\u001b[1;34m'weekIROC'\u001b[0m\u001b[1;33m]\u001b[0m \u001b[1;33m>\u001b[0m \u001b[0mlowlim\u001b[0m\u001b[1;33m)\u001b[0m \u001b[1;33m&\u001b[0m\u001b[1;33m\u001b[0m\u001b[1;33m\u001b[0m\u001b[0m\n\u001b[0;32m      6\u001b[0m     \u001b[1;33m(\u001b[0m\u001b[0mweek1IROC\u001b[0m\u001b[1;33m[\u001b[0m\u001b[1;34m'weekIROC'\u001b[0m\u001b[1;33m]\u001b[0m \u001b[1;33m<\u001b[0m \u001b[0mhiilim\u001b[0m\u001b[1;33m)\u001b[0m\u001b[1;33m\u001b[0m\u001b[1;33m\u001b[0m\u001b[0m\n",
      "\u001b[1;31mNameError\u001b[0m: name 'week1IROC' is not defined"
     ]
    }
   ],
   "source": [
    "lowlim = 0\n",
    "hiilim = 50\n",
    "\n",
    "IROC1plotdat = week1IROC[\n",
    "    (week1IROC['weekIROC'] > lowlim) &\n",
    "    (week1IROC['weekIROC'] < hiilim)\n",
    "].reset_index(drop=True)\n",
    "\n",
    "IROC2plotdat = week2IROC[\n",
    "    (week2IROC['weekIROC'] > lowlim) &\n",
    "    (week2IROC['weekIROC'] < hiilim)\n",
    "].reset_index(drop=True)\n",
    "\n",
    "IROC3plotdat = week3IROC[\n",
    "    (week3IROC['weekIROC'] > lowlim) &\n",
    "    (week3IROC['weekIROC'] < hiilim)\n",
    "].reset_index(drop=True)\n",
    "\n",
    "IROC4plotdat = week4IROC[\n",
    "    (week4IROC['weekIROC'] > lowlim) &\n",
    "    (week4IROC['weekIROC'] < hiilim)\n",
    "].reset_index(drop=True)\n",
    "\n",
    "IROC5plotdat = week5IROC[\n",
    "    (week5IROC['weekIROC'] > lowlim) &\n",
    "    (week5IROC['weekIROC'] < hiilim)\n",
    "].reset_index(drop=True)\n",
    "\n",
    "IROC6plotdat = week6IROC[\n",
    "    (week6IROC['weekIROC'] > lowlim) &\n",
    "    (week6IROC['weekIROC'] < hiilim)\n",
    "].reset_index(drop=True)\n",
    "\n",
    "IROC7plotdat = week7IROC[\n",
    "    (week7IROC['weekIROC'] > lowlim) &\n",
    "    (week7IROC['weekIROC'] < hiilim)\n",
    "].reset_index(drop=True)"
   ]
  },
  {
   "cell_type": "code",
   "execution_count": 3,
   "metadata": {},
   "outputs": [
    {
     "ename": "NameError",
     "evalue": "name 'IROC1plotdat' is not defined",
     "output_type": "error",
     "traceback": [
      "\u001b[1;31m---------------------------------------------------------------------------\u001b[0m",
      "\u001b[1;31mNameError\u001b[0m                                 Traceback (most recent call last)",
      "\u001b[1;32m<ipython-input-3-e558d21ac2e8>\u001b[0m in \u001b[0;36m<module>\u001b[1;34m\u001b[0m\n\u001b[1;32m----> 1\u001b[1;33m \u001b[0mIROC1plotdat\u001b[0m\u001b[1;33m.\u001b[0m\u001b[0mhist\u001b[0m\u001b[1;33m(\u001b[0m\u001b[1;34m'weekIROC'\u001b[0m\u001b[1;33m,\u001b[0m \u001b[0mbins\u001b[0m\u001b[1;33m=\u001b[0m\u001b[1;36m12\u001b[0m\u001b[1;33m)\u001b[0m\u001b[1;33m\u001b[0m\u001b[1;33m\u001b[0m\u001b[0m\n\u001b[0m\u001b[0;32m      2\u001b[0m \u001b[0mplt\u001b[0m\u001b[1;33m.\u001b[0m\u001b[0mxlim\u001b[0m\u001b[1;33m(\u001b[0m\u001b[1;33m[\u001b[0m\u001b[0mlowlim\u001b[0m\u001b[1;33m,\u001b[0m \u001b[0mhiilim\u001b[0m\u001b[1;33m]\u001b[0m\u001b[1;33m)\u001b[0m\u001b[1;33m\u001b[0m\u001b[1;33m\u001b[0m\u001b[0m\n\u001b[0;32m      3\u001b[0m \u001b[0mplt\u001b[0m\u001b[1;33m.\u001b[0m\u001b[0mylim\u001b[0m\u001b[1;33m(\u001b[0m\u001b[1;33m[\u001b[0m\u001b[1;36m0\u001b[0m\u001b[1;33m,\u001b[0m \u001b[1;36m90\u001b[0m\u001b[1;33m]\u001b[0m\u001b[1;33m)\u001b[0m\u001b[1;33m\u001b[0m\u001b[1;33m\u001b[0m\u001b[0m\n\u001b[0;32m      4\u001b[0m \u001b[0mplt\u001b[0m\u001b[1;33m.\u001b[0m\u001b[0mshow\u001b[0m\u001b[1;33m(\u001b[0m\u001b[1;33m)\u001b[0m\u001b[1;33m\u001b[0m\u001b[1;33m\u001b[0m\u001b[0m\n\u001b[0;32m      5\u001b[0m \u001b[0mIROC2plotdat\u001b[0m\u001b[1;33m.\u001b[0m\u001b[0mhist\u001b[0m\u001b[1;33m(\u001b[0m\u001b[1;34m'weekIROC'\u001b[0m\u001b[1;33m,\u001b[0m \u001b[0mbins\u001b[0m\u001b[1;33m=\u001b[0m\u001b[1;36m12\u001b[0m\u001b[1;33m)\u001b[0m\u001b[1;33m\u001b[0m\u001b[1;33m\u001b[0m\u001b[0m\n",
      "\u001b[1;31mNameError\u001b[0m: name 'IROC1plotdat' is not defined"
     ]
    }
   ],
   "source": [
    "IROC1plotdat.hist('weekIROC', bins=12)\n",
    "plt.xlim([lowlim, hiilim])\n",
    "plt.ylim([0, 90])\n",
    "plt.show()\n",
    "IROC2plotdat.hist('weekIROC', bins=12)\n",
    "plt.xlim([lowlim, hiilim])\n",
    "plt.ylim([0, 90])\n",
    "plt.show()\n",
    "IROC3plotdat.hist('weekIROC', bins=12)\n",
    "plt.xlim([lowlim, hiilim])\n",
    "plt.ylim([0, 90])\n",
    "plt.show()\n",
    "IROC4plotdat.hist('weekIROC', bins=12)\n",
    "plt.xlim([lowlim, hiilim])\n",
    "plt.ylim([0, 90])\n",
    "plt.show()\n",
    "IROC5plotdat.hist('weekIROC', bins=12)\n",
    "plt.xlim([lowlim, hiilim])\n",
    "plt.ylim([0, 90])\n",
    "plt.show()\n",
    "IROC6plotdat.hist('weekIROC', bins=12)\n",
    "plt.xlim([lowlim, hiilim])\n",
    "plt.ylim([0, 90])\n",
    "plt.show()\n",
    "IROC7plotdat.hist('weekIROC', bins=12)\n",
    "plt.xlim([lowlim, hiilim])\n",
    "plt.ylim([0, 90])\n",
    "plt.show()"
   ]
  },
  {
   "cell_type": "code",
   "execution_count": 4,
   "metadata": {},
   "outputs": [
    {
     "ename": "NameError",
     "evalue": "name 'plt' is not defined",
     "output_type": "error",
     "traceback": [
      "\u001b[1;31m---------------------------------------------------------------------------\u001b[0m",
      "\u001b[1;31mNameError\u001b[0m                                 Traceback (most recent call last)",
      "\u001b[1;32m<ipython-input-4-87fc836ffd12>\u001b[0m in \u001b[0;36m<module>\u001b[1;34m\u001b[0m\n\u001b[1;32m----> 1\u001b[1;33m \u001b[0mplt\u001b[0m\u001b[1;33m.\u001b[0m\u001b[0mfigure\u001b[0m\u001b[1;33m(\u001b[0m\u001b[0mfigsize\u001b[0m\u001b[1;33m=\u001b[0m\u001b[1;33m[\u001b[0m\u001b[1;36m15\u001b[0m\u001b[1;33m,\u001b[0m \u001b[1;36m10\u001b[0m\u001b[1;33m]\u001b[0m\u001b[1;33m)\u001b[0m\u001b[1;33m\u001b[0m\u001b[1;33m\u001b[0m\u001b[0m\n\u001b[0m\u001b[0;32m      2\u001b[0m \u001b[0msn\u001b[0m\u001b[1;33m.\u001b[0m\u001b[0mlineplot\u001b[0m\u001b[1;33m(\u001b[0m\u001b[0mx\u001b[0m\u001b[1;33m=\u001b[0m\u001b[1;34m'Latbins'\u001b[0m\u001b[1;33m,\u001b[0m \u001b[0my\u001b[0m\u001b[1;33m=\u001b[0m\u001b[1;34m'IROC_cases'\u001b[0m\u001b[1;33m,\u001b[0m \u001b[0mdata\u001b[0m\u001b[1;33m=\u001b[0m\u001b[0mlocationref\u001b[0m\u001b[1;33m,\u001b[0m \u001b[0mlabel\u001b[0m\u001b[1;33m=\u001b[0m\u001b[1;34m'MinTemp'\u001b[0m\u001b[1;33m)\u001b[0m\u001b[1;33m\u001b[0m\u001b[1;33m\u001b[0m\u001b[0m\n\u001b[0;32m      3\u001b[0m \u001b[0msn\u001b[0m\u001b[1;33m.\u001b[0m\u001b[0mlineplot\u001b[0m\u001b[1;33m(\u001b[0m\u001b[0mx\u001b[0m\u001b[1;33m=\u001b[0m\u001b[1;34m'maxtemp'\u001b[0m\u001b[1;33m,\u001b[0m \u001b[0my\u001b[0m\u001b[1;33m=\u001b[0m\u001b[1;34m'weekIROC'\u001b[0m\u001b[1;33m,\u001b[0m \u001b[0mdata\u001b[0m\u001b[1;33m=\u001b[0m\u001b[0mtestplotdat\u001b[0m\u001b[1;33m,\u001b[0m \u001b[0mlabel\u001b[0m\u001b[1;33m=\u001b[0m\u001b[1;34m'MaxTemp'\u001b[0m\u001b[1;33m)\u001b[0m\u001b[1;33m\u001b[0m\u001b[1;33m\u001b[0m\u001b[0m\n\u001b[0;32m      4\u001b[0m \u001b[0msn\u001b[0m\u001b[1;33m.\u001b[0m\u001b[0mlineplot\u001b[0m\u001b[1;33m(\u001b[0m\u001b[0mx\u001b[0m\u001b[1;33m=\u001b[0m\u001b[1;34m'difftemp'\u001b[0m\u001b[1;33m,\u001b[0m \u001b[0my\u001b[0m\u001b[1;33m=\u001b[0m\u001b[1;34m'weekIROC'\u001b[0m\u001b[1;33m,\u001b[0m \u001b[0mdata\u001b[0m\u001b[1;33m=\u001b[0m\u001b[0mtestplotdat\u001b[0m\u001b[1;33m,\u001b[0m \u001b[0mlabel\u001b[0m\u001b[1;33m=\u001b[0m\u001b[1;34m'TempDiff'\u001b[0m\u001b[1;33m)\u001b[0m\u001b[1;33m\u001b[0m\u001b[1;33m\u001b[0m\u001b[0m\n\u001b[0;32m      5\u001b[0m \u001b[1;31m# plt.xlabel('Temperature\\nDegrees F')\u001b[0m\u001b[1;33m\u001b[0m\u001b[1;33m\u001b[0m\u001b[1;33m\u001b[0m\u001b[0m\n",
      "\u001b[1;31mNameError\u001b[0m: name 'plt' is not defined"
     ]
    }
   ],
   "source": [
    "\n",
    "plt.figure(figsize=[15, 10])\n",
    "sn.lineplot(x='Latbins', y='IROC_cases', data=locationref, label='MinTemp')\n",
    "sn.lineplot(x='maxtemp', y='weekIROC', data=testplotdat, label='MaxTemp')\n",
    "sn.lineplot(x='difftemp', y='weekIROC', data=testplotdat, label='TempDiff')\n",
    "# plt.xlabel('Temperature\\nDegrees F')\n",
    "# plt.legend()"
   ]
  },
  {
   "cell_type": "code",
   "execution_count": 5,
   "metadata": {},
   "outputs": [
    {
     "ename": "NameError",
     "evalue": "name 'plt' is not defined",
     "output_type": "error",
     "traceback": [
      "\u001b[1;31m---------------------------------------------------------------------------\u001b[0m",
      "\u001b[1;31mNameError\u001b[0m                                 Traceback (most recent call last)",
      "\u001b[1;32m<ipython-input-5-07f9eafc1c21>\u001b[0m in \u001b[0;36m<module>\u001b[1;34m\u001b[0m\n\u001b[1;32m----> 1\u001b[1;33m \u001b[0mplt\u001b[0m\u001b[1;33m.\u001b[0m\u001b[0mfigure\u001b[0m\u001b[1;33m(\u001b[0m\u001b[0mfigsize\u001b[0m\u001b[1;33m=\u001b[0m\u001b[1;33m[\u001b[0m\u001b[1;36m15\u001b[0m\u001b[1;33m,\u001b[0m \u001b[1;36m10\u001b[0m\u001b[1;33m]\u001b[0m\u001b[1;33m)\u001b[0m\u001b[1;33m\u001b[0m\u001b[1;33m\u001b[0m\u001b[0m\n\u001b[0m\u001b[0;32m      2\u001b[0m \u001b[0msn\u001b[0m\u001b[1;33m.\u001b[0m\u001b[0mlineplot\u001b[0m\u001b[1;33m(\u001b[0m\u001b[0mx\u001b[0m\u001b[1;33m=\u001b[0m\u001b[1;34m'mintemp'\u001b[0m\u001b[1;33m,\u001b[0m \u001b[0my\u001b[0m\u001b[1;33m=\u001b[0m\u001b[1;34m'weekIROC'\u001b[0m\u001b[1;33m,\u001b[0m \u001b[0mdata\u001b[0m\u001b[1;33m=\u001b[0m\u001b[0mweek1dat\u001b[0m\u001b[1;33m,\u001b[0m \u001b[0mlabel\u001b[0m\u001b[1;33m=\u001b[0m\u001b[1;34m'MinTemp'\u001b[0m\u001b[1;33m)\u001b[0m\u001b[1;33m\u001b[0m\u001b[1;33m\u001b[0m\u001b[0m\n\u001b[0;32m      3\u001b[0m \u001b[0msn\u001b[0m\u001b[1;33m.\u001b[0m\u001b[0mlineplot\u001b[0m\u001b[1;33m(\u001b[0m\u001b[0mx\u001b[0m\u001b[1;33m=\u001b[0m\u001b[1;34m'maxtemp'\u001b[0m\u001b[1;33m,\u001b[0m \u001b[0my\u001b[0m\u001b[1;33m=\u001b[0m\u001b[1;34m'weekIROC'\u001b[0m\u001b[1;33m,\u001b[0m \u001b[0mdata\u001b[0m\u001b[1;33m=\u001b[0m\u001b[0mweek1dat\u001b[0m\u001b[1;33m,\u001b[0m \u001b[0mlabel\u001b[0m\u001b[1;33m=\u001b[0m\u001b[1;34m'MaxTemp'\u001b[0m\u001b[1;33m)\u001b[0m\u001b[1;33m\u001b[0m\u001b[1;33m\u001b[0m\u001b[0m\n\u001b[0;32m      4\u001b[0m \u001b[0msn\u001b[0m\u001b[1;33m.\u001b[0m\u001b[0mlineplot\u001b[0m\u001b[1;33m(\u001b[0m\u001b[0mx\u001b[0m\u001b[1;33m=\u001b[0m\u001b[1;34m'difftemp'\u001b[0m\u001b[1;33m,\u001b[0m \u001b[0my\u001b[0m\u001b[1;33m=\u001b[0m\u001b[1;34m'weekIROC'\u001b[0m\u001b[1;33m,\u001b[0m \u001b[0mdata\u001b[0m\u001b[1;33m=\u001b[0m\u001b[0mweek1dat\u001b[0m\u001b[1;33m,\u001b[0m \u001b[0mlabel\u001b[0m\u001b[1;33m=\u001b[0m\u001b[1;34m'TempDiff'\u001b[0m\u001b[1;33m)\u001b[0m\u001b[1;33m\u001b[0m\u001b[1;33m\u001b[0m\u001b[0m\n\u001b[0;32m      5\u001b[0m \u001b[0mplt\u001b[0m\u001b[1;33m.\u001b[0m\u001b[0mxlabel\u001b[0m\u001b[1;33m(\u001b[0m\u001b[1;34m'Temperature\\nDegrees F'\u001b[0m\u001b[1;33m)\u001b[0m\u001b[1;33m\u001b[0m\u001b[1;33m\u001b[0m\u001b[0m\n",
      "\u001b[1;31mNameError\u001b[0m: name 'plt' is not defined"
     ]
    }
   ],
   "source": [
    "\n",
    "plt.figure(figsize=[15, 10])\n",
    "sn.lineplot(x='mintemp', y='weekIROC', data=week1dat, label='MinTemp')\n",
    "sn.lineplot(x='maxtemp', y='weekIROC', data=week1dat, label='MaxTemp')\n",
    "sn.lineplot(x='difftemp', y='weekIROC', data=week1dat, label='TempDiff')\n",
    "plt.xlabel('Temperature\\nDegrees F')\n",
    "plt.legend()"
   ]
  },
  {
   "cell_type": "code",
   "execution_count": null,
   "metadata": {},
   "outputs": [],
   "source": []
  }
 ],
 "metadata": {
  "kernelspec": {
   "display_name": "Python 3",
   "language": "python",
   "name": "python3"
  },
  "language_info": {
   "codemirror_mode": {
    "name": "ipython",
    "version": 3
   },
   "file_extension": ".py",
   "mimetype": "text/x-python",
   "name": "python",
   "nbconvert_exporter": "python",
   "pygments_lexer": "ipython3",
   "version": "3.7.4"
  }
 },
 "nbformat": 4,
 "nbformat_minor": 2
}
