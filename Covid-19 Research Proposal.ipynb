{
 "cells": [
  {
   "cell_type": "markdown",
   "metadata": {},
   "source": [
    "# An in-depth look at the spread and lethality of Covid-19"
   ]
  },
  {
   "cell_type": "markdown",
   "metadata": {},
   "source": [
    "<h3><span style=\"color:blue\">Data</span></h3>\n",
    "\n",
    "The Data I will be analyzing can be found [here](https://www.kaggle.com/sudalairajkumar/novel-corona-virus-2019-dataset).  Although it's a relatively refined dataset, through initial analysis, there were multiple instances of data mismatches and in order to make the data presentable, it required a significant amount of manipulation.  The data includes all individual cases of Covid-19, number of cases, deaths, and recoveries.  This includes patient data, geographical data, and the dates they occurred or were reported.  "
   ]
  },
  {
   "cell_type": "markdown",
   "metadata": {},
   "source": [
    "<h3><span style=\"color:blue\">Research Design</span></h3>\n",
    "\n",
    "My main point of focus will be within the first weeks of when cases begin reporting in an area.  As with all highly-infectious diseases, we expect the number of cases to follow an exponential curve.  However, we can look at localized data for Short-Duration periods and extrapolate tangent lines from the curve for instantaneous rates of change.  That measure will be the main comparison from Week-1 of Area-A to Week-1 of Area-B.\n",
    "\n",
    "$$H_0: \\mu_\\text{IRoC-A} - \\mu_\\text{IRoC-B} = 0$$\n",
    "$$H_1: \\mu_\\text{IRoC-A} - \\mu_\\text{IRoC-B} \\neq 0$$\n",
    "\n",
    ">_The average will be taken across a pre-defined geographical grid that groups like climates and cities_\n",
    "\n",
    "This research project will explore, if we fail to reject the null hypotheses, what factors made the regions similar.  However, and maybe more interestingly, if we reject the null hypothesis, what factors made the regions different."
   ]
  },
  {
   "cell_type": "markdown",
   "metadata": {},
   "source": [
    "<h3><span style=\"color:blue\">Target Audience</span></h3>\n",
    "\n",
    "The main purpose of this research project is to take an in-depth look at the spread and lethality of the new coronavirus, Covid-19.  The significance of the research will likely be of most interest to health-care professionals and politicians working to prevent the spread of the disease.  It would also be useful to see the spread rate of the disease across multiple countries and what factors make it spread quicker and what steps certain governments took that may drastically reduce the rate at which the disease spread in their respective locations.  If time permits, it would also be interesting to add the comparison between Covid-19 and MERS and SARS"
   ]
  }
 ],
 "metadata": {
  "kernelspec": {
   "display_name": "Python 3",
   "language": "python",
   "name": "python3"
  },
  "language_info": {
   "codemirror_mode": {
    "name": "ipython",
    "version": 3
   },
   "file_extension": ".py",
   "mimetype": "text/x-python",
   "name": "python",
   "nbconvert_exporter": "python",
   "pygments_lexer": "ipython3",
   "version": "3.7.4"
  }
 },
 "nbformat": 4,
 "nbformat_minor": 2
}
